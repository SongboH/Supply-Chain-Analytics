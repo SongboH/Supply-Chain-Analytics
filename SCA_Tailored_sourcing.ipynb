{
  "nbformat": 4,
  "nbformat_minor": 0,
  "metadata": {
    "colab": {
      "provenance": []
    },
    "kernelspec": {
      "name": "python3",
      "display_name": "Python 3"
    },
    "language_info": {
      "name": "python"
    }
  },
  "cells": [
    {
      "cell_type": "code",
      "execution_count": null,
      "metadata": {
        "id": "gkN_4bRifhYM"
      },
      "outputs": [],
      "source": [
        "import numpy as np\n",
        "import math"
      ]
    },
    {
      "cell_type": "markdown",
      "source": [
        "#**Part 1**"
      ],
      "metadata": {
        "id": "v1tYo3wogAJz"
      }
    },
    {
      "cell_type": "code",
      "source": [
        "products_data = [\n",
        "    {'product': 1, 'demand': 1000, 'common':100, 'specific_ordering_cost': 10, 'unit_cost': 50, 'holding_cost_rate': 0.2},\n",
        "    {'product': 2, 'demand': 300, 'common':100, 'specific_ordering_cost': 20, 'unit_cost': 60, 'holding_cost_rate': 0.2},\n",
        "    {'product': 3, 'demand': 100, 'common':100, 'specific_ordering_cost': 25, 'unit_cost': 30, 'holding_cost_rate': 0.2},\n",
        "    {'product': 4, 'demand': 50, 'common':100, 'specific_ordering_cost': 25, 'unit_cost': 30, 'holding_cost_rate': 0.2}\n",
        "]\n"
      ],
      "metadata": {
        "id": "L7sjswKwgFco"
      },
      "execution_count": null,
      "outputs": []
    },
    {
      "cell_type": "code",
      "source": [
        "calculated_values = {}"
      ],
      "metadata": {
        "id": "Fx_KATyYhPO6"
      },
      "execution_count": null,
      "outputs": []
    },
    {
      "cell_type": "markdown",
      "source": [
        "### Calculate holding cost"
      ],
      "metadata": {
        "id": "HpNRxCDRkwqS"
      }
    },
    {
      "cell_type": "code",
      "source": [
        "for product in products_data:\n",
        "    holding_cost_per_unit = product['holding_cost_rate'] * product['unit_cost']\n",
        "\n",
        "    calculated_values[product['product']] = {'holding_cost_per_unit': holding_cost_per_unit}"
      ],
      "metadata": {
        "id": "tVgQF4nSjWqa"
      },
      "execution_count": null,
      "outputs": []
    },
    {
      "cell_type": "markdown",
      "source": [
        "### Calculate EOQ for eqch product"
      ],
      "metadata": {
        "id": "_ATSS3K_k35M"
      }
    },
    {
      "cell_type": "code",
      "source": [
        "for product in products_data:\n",
        "    # S\n",
        "    total_ordering_cost = product['common'] + product['specific_ordering_cost']\n",
        "    holding_cost_per_unit = calculated_values[product['product']]['holding_cost_per_unit']\n",
        "    # EOQ (Q)\n",
        "    eoq = math.sqrt((2 * product['demand'] * total_ordering_cost) / holding_cost_per_unit)\n",
        "\n",
        "    # Store in dictionary\n",
        "    calculated_values[product['product']]['eoq'] = eoq"
      ],
      "metadata": {
        "id": "yMgYkTQ9kvh6"
      },
      "execution_count": null,
      "outputs": []
    },
    {
      "cell_type": "markdown",
      "source": [
        "### Total annual cost per unit"
      ],
      "metadata": {
        "id": "6-Q2AMNjoOBk"
      }
    },
    {
      "cell_type": "code",
      "source": [
        "total_cost = 0\n",
        "for product in products_data:\n",
        "    eoq = calculated_values[product['product']]['eoq']\n",
        "    holding_cost_per_unit = calculated_values[product['product']]['holding_cost_per_unit']\n",
        "\n",
        "    # Calculate the total annual cost (Cost_Q)\n",
        "    annual_holding_cost = holding_cost_per_unit * eoq / 2\n",
        "    annual_ordering_cost = product['demand'] * (product['common']+product['specific_ordering_cost']) / eoq\n",
        "    total_annual_cost = annual_holding_cost + annual_ordering_cost\n",
        "\n",
        "    # Store the total annual cost in the calculated_values dictionary\n",
        "    calculated_values[product['product']]['total_annual_cost'] = total_annual_cost\n",
        "    total_cost += total_annual_cost"
      ],
      "metadata": {
        "id": "8Mr2rOm_oCqM"
      },
      "execution_count": null,
      "outputs": []
    },
    {
      "cell_type": "code",
      "source": [
        "for product, values in calculated_values.items():\n",
        "    print(f\"Product {product}:\")\n",
        "    print(f\"  Holding cost per unit: {values['holding_cost_per_unit']}\")\n",
        "    print(f\"  EOQ: {values['eoq']}\")\n",
        "    print(f\"  Total annual cost: {values['total_annual_cost']}\")\n",
        "print(f\"Total cost: {total_cost}\")"
      ],
      "metadata": {
        "colab": {
          "base_uri": "https://localhost:8080/"
        },
        "id": "TptPI3ZNprC3",
        "outputId": "c9e6da09-0c7a-4da6-d4f1-336dc62252f1"
      },
      "execution_count": null,
      "outputs": [
        {
          "output_type": "stream",
          "name": "stdout",
          "text": [
            "Product 1:\n",
            "  Holding cost per unit: 10.0\n",
            "  EOQ: 148.32396974191326\n",
            "  Total annual cost: 1483.2396974191327\n",
            "Product 2:\n",
            "  Holding cost per unit: 12.0\n",
            "  EOQ: 77.45966692414834\n",
            "  Total annual cost: 929.51600308978\n",
            "Product 3:\n",
            "  Holding cost per unit: 6.0\n",
            "  EOQ: 64.54972243679029\n",
            "  Total annual cost: 387.2983346207417\n",
            "Product 4:\n",
            "  Holding cost per unit: 6.0\n",
            "  EOQ: 45.64354645876384\n",
            "  Total annual cost: 273.8612787525831\n",
            "Total cost: 3073.9153138822376\n"
          ]
        }
      ]
    },
    {
      "cell_type": "markdown",
      "source": [
        "#**Part 2**"
      ],
      "metadata": {
        "id": "JvfY_Z6fBgYp"
      }
    },
    {
      "cell_type": "code",
      "source": [
        "S = products_data[1]['common'] + sum(product['specific_ordering_cost'] for product in products_data)\n",
        "n = np.sqrt(sum(product['demand']*product['holding_cost_rate'] * product['unit_cost'] for product in products_data)/(2*S))\n",
        "\n",
        "def calculate_cost(product):\n",
        "  H = product['holding_cost_rate'] * product['unit_cost']\n",
        "  D = product['demand']\n",
        "  Q = D / n\n",
        "  holding_cost = H*Q/2\n",
        "  return holding_cost\n",
        "\n",
        "total_holding_cost = 0\n",
        "for products in products_data:\n",
        "  holding_cost = calculate_cost(products)\n",
        "  total_holding_cost += holding_cost\n",
        "  print(f\"Total Holding Cost: {holding_cost:.2f}\")\n",
        "total_cost = S*n + total_holding_cost\n",
        "print(f\"Total Ording Cost: {S*n:.2f}\")\n",
        "print(f\"Total Cost: {total_cost:.2f}\")"
      ],
      "metadata": {
        "colab": {
          "base_uri": "https://localhost:8080/"
        },
        "id": "TywWZ1uiBjbA",
        "outputId": "890c2049-7fdd-419c-8663-e234f9dcc62e"
      },
      "execution_count": null,
      "outputs": [
        {
          "output_type": "stream",
          "name": "stdout",
          "text": [
            "Total Holding Cost: 787.84\n",
            "Total Holding Cost: 283.62\n",
            "Total Holding Cost: 47.27\n",
            "Total Holding Cost: 23.64\n",
            "Total Ording Cost: 1142.37\n",
            "Total Cost: 2284.73\n"
          ]
        }
      ]
    },
    {
      "cell_type": "markdown",
      "source": [
        "#**Part 3**"
      ],
      "metadata": {
        "id": "8fkHiVuLLbGk"
      }
    },
    {
      "cell_type": "code",
      "source": [
        "def calculate_frequency(product, include_common=True):\n",
        "    D = product['demand']\n",
        "    S = (product['common'] if include_common else 0) + product['specific_ordering_cost']\n",
        "    H = product['holding_cost_rate'] * product['unit_cost']\n",
        "    frequency = D / np.sqrt((2 * D * S) / H)\n",
        "    return frequency\n",
        "\n",
        "# Calculate initial frequencies with common cost\n",
        "for product in products_data:\n",
        "    product['frequency'] = calculate_frequency(product, True)\n",
        "\n",
        "# Identify the product with the highest frequency\n",
        "most_frequent_product = max(products_data, key=lambda x: x['frequency'])\n",
        "most_frequent_product_id = most_frequent_product['product']-1\n",
        "\n",
        "# Recalculate frequencies without common cost and determine multiples\n",
        "for i in range(4):\n",
        "    if i != most_frequent_product_id:\n",
        "        products_data[i]['new_frequency'] = calculate_frequency(products_data[i], False)\n",
        "        products_data[i]['m'] = math.ceil(products_data[most_frequent_product_id]['frequency'] / products_data[i]['new_frequency'])\n",
        "\n",
        "# Update the frequency for the most frequent product based on multiples\n",
        "total_demand_weighted = sum(p['demand'] * p['holding_cost_rate'] * p['unit_cost'] * p.get('m', 1) for p in products_data)\n",
        "total_specific_costs = sum(p['specific_ordering_cost'] / p.get('m', 1) for p in products_data)\n",
        "new_frequency_most_frequent = np.sqrt(total_demand_weighted / (2 * (products_data[1]['common'] + total_specific_costs)))\n",
        "\n",
        "# Assign new frequencies and calculate total cost\n",
        "total_cost = 0\n",
        "for i in range(4):\n",
        "    if i == most_frequent_product_id:\n",
        "        products_data[i]['final_frequency'] = new_frequency_most_frequent\n",
        "    else:\n",
        "        products_data[i]['final_frequency'] = new_frequency_most_frequent / products_data[i]['m']\n",
        "\n",
        "    D, H = products_data[i]['demand'], products_data[i]['holding_cost_rate'] * products_data[i]['unit_cost']\n",
        "    n = products_data[i]['final_frequency']\n",
        "    total_cost += (D / n / 2) * H  # Holding cost component\n",
        "\n",
        "total_cost += (products_data[1]['common'] + total_specific_costs) * new_frequency_most_frequent  # Adding ordering cost component\n",
        "print(f\"Total annual cost: {total_cost:.2f}\")"
      ],
      "metadata": {
        "colab": {
          "base_uri": "https://localhost:8080/"
        },
        "id": "Zkm4npjYLftH",
        "outputId": "06c1105a-9952-4b54-ad4c-5da44df68616"
      },
      "execution_count": null,
      "outputs": [
        {
          "output_type": "stream",
          "name": "stdout",
          "text": [
            "Total annual cost: 2176.27\n"
          ]
        }
      ]
    },
    {
      "cell_type": "code",
      "source": [],
      "metadata": {
        "id": "9-0NRs0wLgMd"
      },
      "execution_count": null,
      "outputs": []
    },
    {
      "cell_type": "code",
      "source": [],
      "metadata": {
        "id": "Y1SG93lZLgKN"
      },
      "execution_count": null,
      "outputs": []
    },
    {
      "cell_type": "code",
      "source": [],
      "metadata": {
        "id": "3-l3snETLgHs"
      },
      "execution_count": null,
      "outputs": []
    },
    {
      "cell_type": "code",
      "source": [],
      "metadata": {
        "id": "ojOIK3CJLgFf"
      },
      "execution_count": null,
      "outputs": []
    },
    {
      "cell_type": "code",
      "source": [],
      "metadata": {
        "id": "6GaL6WT7Lf-0"
      },
      "execution_count": null,
      "outputs": []
    },
    {
      "cell_type": "code",
      "source": [],
      "metadata": {
        "id": "G-RZGBxzLf1c"
      },
      "execution_count": null,
      "outputs": []
    }
  ]
}